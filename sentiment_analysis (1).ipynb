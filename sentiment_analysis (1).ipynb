{
  "nbformat": 4,
  "nbformat_minor": 0,
  "metadata": {
    "colab": {
      "provenance": []
    },
    "kernelspec": {
      "name": "python3",
      "display_name": "Python 3"
    },
    "language_info": {
      "name": "python"
    }
  },
  "cells": [
    {
      "cell_type": "markdown",
      "source": [
        "Large Scale Data Analysis - on movie reviews.   Siddhesh Chavan"
      ],
      "metadata": {
        "id": "zXYHyi-P_TAt"
      }
    },
    {
      "cell_type": "code",
      "execution_count": null,
      "metadata": {
        "id": "1YVHLKvx_ICs"
      },
      "outputs": [],
      "source": [
        "!apt-get install openjdk-8-jdk-headless -qq > /dev/null\n",
        "!wget -q https://archive.apache.org/dist/spark/spark-3.2.0/spark-3.2.0-bin-hadoop3.2.tgz\n",
        "!tar xf spark-3.2.0-bin-hadoop3.2.tgz\n",
        "!pip install -q findspark"
      ]
    },
    {
      "cell_type": "code",
      "source": [
        "import os\n",
        "os.environ[\"JAVA_HOME\"] = \"/usr/lib/jvm/java-8-openjdk-amd64\"\n",
        "os.environ[\"SPARK_HOME\"] = \"spark-3.2.0-bin-hadoop3.2\""
      ],
      "metadata": {
        "id": "Bgis0IlGCIlg"
      },
      "execution_count": null,
      "outputs": []
    },
    {
      "cell_type": "code",
      "source": [
        "print(\"JAVA_HOME:\", os.environ.get(\"JAVA_HOME\"))\n",
        "print(\"SPARK_HOME:\", os.environ.get(\"SPARK_HOME\"))\n"
      ],
      "metadata": {
        "colab": {
          "base_uri": "https://localhost:8080/"
        },
        "id": "kfasX5wRHklX",
        "outputId": "d8e24f48-90e9-4a3c-8c55-22f4a6fbf91c"
      },
      "execution_count": null,
      "outputs": [
        {
          "output_type": "stream",
          "name": "stdout",
          "text": [
            "JAVA_HOME: /usr/lib/jvm/java-8-openjdk-amd64\n",
            "SPARK_HOME: spark-3.2.0-bin-hadoop3.2\n"
          ]
        }
      ]
    },
    {
      "cell_type": "code",
      "source": [
        "import findspark\n",
        "findspark.init()\n",
        "from pyspark.sql import SparkSession\n",
        "spark = SparkSession.builder.master(\"local[*]\").getOrCreate()\n",
        "sc = spark.sparkContext\n",
        "sc"
      ],
      "metadata": {
        "colab": {
          "base_uri": "https://localhost:8080/",
          "height": 197
        },
        "id": "-fzeWP1jHpJM",
        "outputId": "eb164e0c-4306-4708-d1cb-70b3d9d36aa4"
      },
      "execution_count": null,
      "outputs": [
        {
          "output_type": "execute_result",
          "data": {
            "text/plain": [
              "<SparkContext master=local[*] appName=pyspark-shell>"
            ],
            "text/html": [
              "\n",
              "        <div>\n",
              "            <p><b>SparkContext</b></p>\n",
              "\n",
              "            <p><a href=\"http://8df2eb04309f:4040\">Spark UI</a></p>\n",
              "\n",
              "            <dl>\n",
              "              <dt>Version</dt>\n",
              "                <dd><code>v3.2.0</code></dd>\n",
              "              <dt>Master</dt>\n",
              "                <dd><code>local[*]</code></dd>\n",
              "              <dt>AppName</dt>\n",
              "                <dd><code>pyspark-shell</code></dd>\n",
              "            </dl>\n",
              "        </div>\n",
              "        "
            ]
          },
          "metadata": {},
          "execution_count": 6
        }
      ]
    },
    {
      "cell_type": "code",
      "source": [
        "from google.colab import drive\n",
        "drive.mount('/content/gdrive')"
      ],
      "metadata": {
        "colab": {
          "base_uri": "https://localhost:8080/"
        },
        "id": "3mfn1QdxHv1w",
        "outputId": "dc79cbd0-b324-4c4b-9d15-f5f6108eb64b"
      },
      "execution_count": null,
      "outputs": [
        {
          "output_type": "stream",
          "name": "stdout",
          "text": [
            "Mounted at /content/gdrive\n"
          ]
        }
      ]
    },
    {
      "cell_type": "code",
      "source": [
        "positive_words_RDD = sc.textFile('/content/gdrive/MyDrive/cloud/pos.txt', use_unicode=True)"
      ],
      "metadata": {
        "id": "KEORJfnIHsYr"
      },
      "execution_count": null,
      "outputs": []
    },
    {
      "cell_type": "code",
      "source": [
        "Map_Pos_Words = positive_words_RDD.map(lambda x: (x, 1)).collectAsMap()"
      ],
      "metadata": {
        "id": "9OxRFhTzLamN"
      },
      "execution_count": null,
      "outputs": []
    },
    {
      "cell_type": "code",
      "source": [
        "negative_words_RDD = sc.textFile('/content/gdrive/MyDrive/cloud/neg.txt', use_unicode=True)"
      ],
      "metadata": {
        "id": "lMQn9UeeLdol"
      },
      "execution_count": null,
      "outputs": []
    },
    {
      "cell_type": "code",
      "source": [
        "Map_Neg_Words = negative_words_RDD.map(lambda x: (x, 1)).collectAsMap()"
      ],
      "metadata": {
        "id": "HXBCLdixLgxg"
      },
      "execution_count": null,
      "outputs": []
    },
    {
      "cell_type": "code",
      "source": [
        "movie_reviews_RDD = sc.wholeTextFiles('/content/gdrive/MyDrive/cloud/moviereviews', use_unicode=True)"
      ],
      "metadata": {
        "id": "ryM5bVxBLi9b"
      },
      "execution_count": null,
      "outputs": []
    },
    {
      "cell_type": "code",
      "source": [
        "pip install nltk\n"
      ],
      "metadata": {
        "colab": {
          "base_uri": "https://localhost:8080/"
        },
        "id": "Jqz-1JEvMstY",
        "outputId": "8321d51d-3b4a-464f-a2ad-23ea1246035d"
      },
      "execution_count": null,
      "outputs": [
        {
          "output_type": "stream",
          "name": "stdout",
          "text": [
            "Requirement already satisfied: nltk in /usr/local/lib/python3.10/dist-packages (3.8.1)\n",
            "Requirement already satisfied: click in /usr/local/lib/python3.10/dist-packages (from nltk) (8.1.7)\n",
            "Requirement already satisfied: joblib in /usr/local/lib/python3.10/dist-packages (from nltk) (1.3.2)\n",
            "Requirement already satisfied: regex>=2021.8.3 in /usr/local/lib/python3.10/dist-packages (from nltk) (2023.6.3)\n",
            "Requirement already satisfied: tqdm in /usr/local/lib/python3.10/dist-packages (from nltk) (4.66.1)\n"
          ]
        }
      ]
    },
    {
      "cell_type": "code",
      "source": [
        "import nltk"
      ],
      "metadata": {
        "id": "hmy3TdTyMuWl"
      },
      "execution_count": null,
      "outputs": []
    },
    {
      "cell_type": "code",
      "source": [
        "nltk.download('stopwords')"
      ],
      "metadata": {
        "colab": {
          "base_uri": "https://localhost:8080/"
        },
        "id": "Bn1mOCVcLpnD",
        "outputId": "fe41730d-2e3a-40f1-da46-bb917af17b87"
      },
      "execution_count": null,
      "outputs": [
        {
          "output_type": "stream",
          "name": "stderr",
          "text": [
            "[nltk_data] Downloading package stopwords to /root/nltk_data...\n",
            "[nltk_data]   Package stopwords is already up-to-date!\n"
          ]
        },
        {
          "output_type": "execute_result",
          "data": {
            "text/plain": [
              "True"
            ]
          },
          "metadata": {},
          "execution_count": 40
        }
      ]
    },
    {
      "cell_type": "code",
      "source": [
        "!pip install textblob\n",
        "!python -m textblob.download_corpora"
      ],
      "metadata": {
        "colab": {
          "base_uri": "https://localhost:8080/"
        },
        "id": "QYt0VyF7Lsv7",
        "outputId": "7f7082f3-372f-403c-83f5-d19ef08542b4"
      },
      "execution_count": null,
      "outputs": [
        {
          "output_type": "stream",
          "name": "stdout",
          "text": [
            "Requirement already satisfied: textblob in /usr/local/lib/python3.10/dist-packages (0.17.1)\n",
            "Requirement already satisfied: nltk>=3.1 in /usr/local/lib/python3.10/dist-packages (from textblob) (3.8.1)\n",
            "Requirement already satisfied: click in /usr/local/lib/python3.10/dist-packages (from nltk>=3.1->textblob) (8.1.7)\n",
            "Requirement already satisfied: joblib in /usr/local/lib/python3.10/dist-packages (from nltk>=3.1->textblob) (1.3.2)\n",
            "Requirement already satisfied: regex>=2021.8.3 in /usr/local/lib/python3.10/dist-packages (from nltk>=3.1->textblob) (2023.6.3)\n",
            "Requirement already satisfied: tqdm in /usr/local/lib/python3.10/dist-packages (from nltk>=3.1->textblob) (4.66.1)\n",
            "[nltk_data] Downloading package brown to /root/nltk_data...\n",
            "[nltk_data]   Package brown is already up-to-date!\n",
            "[nltk_data] Downloading package punkt to /root/nltk_data...\n",
            "[nltk_data]   Package punkt is already up-to-date!\n",
            "[nltk_data] Downloading package wordnet to /root/nltk_data...\n",
            "[nltk_data]   Package wordnet is already up-to-date!\n",
            "[nltk_data] Downloading package averaged_perceptron_tagger to\n",
            "[nltk_data]     /root/nltk_data...\n",
            "[nltk_data]   Package averaged_perceptron_tagger is already up-to-\n",
            "[nltk_data]       date!\n",
            "[nltk_data] Downloading package conll2000 to /root/nltk_data...\n",
            "[nltk_data]   Package conll2000 is already up-to-date!\n",
            "[nltk_data] Downloading package movie_reviews to /root/nltk_data...\n",
            "[nltk_data]   Package movie_reviews is already up-to-date!\n",
            "Finished.\n"
          ]
        }
      ]
    },
    {
      "cell_type": "code",
      "source": [
        "import re\n",
        "import nltk\n",
        "from nltk.corpus import stopwords\n",
        "from textblob import TextBlob\n",
        "\n"
      ],
      "metadata": {
        "id": "Y_5inuU2L0B4"
      },
      "execution_count": null,
      "outputs": []
    },
    {
      "cell_type": "code",
      "source": [
        "stop_words = set(stopwords.words('english'))\n",
        "def preprocess(data):\n",
        "    s = re.sub('\\W+',' ', data.lower())\n",
        "    s=TextBlob(s)\n",
        "    s = s.tokenize()\n",
        "    s = [w for w in s if not w in stop_words]\n",
        "    s = [re.sub(r'[^aA-zZ]+', ' ', w) for w in s if len(w)>1]\n",
        "    s = [re.sub(r'\\W+', ' ', w) for w in s if len(w)>1]\n",
        "    return (data,s)"
      ],
      "metadata": {
        "id": "nFvlj6Y8RHeT"
      },
      "execution_count": null,
      "outputs": []
    },
    {
      "cell_type": "code",
      "source": [
        "reviews_RDD = movie_reviews_RDD.map(lambda x: (x[0].split(\"/\")[-1], preprocess(x[1])))"
      ],
      "metadata": {
        "id": "yWMR5gihL3ew"
      },
      "execution_count": null,
      "outputs": []
    },
    {
      "cell_type": "code",
      "source": [
        "def Senti_analysis(x, Map_Pos_Words, Map_Neg_Words):\n",
        "  filename = x[0]\n",
        "  original = x[1][0]\n",
        "  words = x[1][1]\n",
        "  positive_sc = 0\n",
        "  negative_sc = 0\n",
        "\n",
        "  for word in words:\n",
        "    # Calculating +ve score. . . . . . .\n",
        "    if word in Map_Pos_Words:\n",
        "      positive_sc = positive_sc + 1\n",
        "    #Calculating -ve score. . . . . . .\n",
        "    if word in Map_Neg_Words:\n",
        "      negative_sc = negative_sc + 1\n",
        "\n",
        "  sentiment = \"positive\" if positive_sc > negative_sc else \"negative\"\n",
        "\n",
        "  return (filename, original, words, positive_sc, negative_sc, sentiment)"
      ],
      "metadata": {
        "id": "UC6ZR0ifL5iB"
      },
      "execution_count": null,
      "outputs": []
    },
    {
      "cell_type": "code",
      "source": [
        "reviews_RDD_with_score = reviews_RDD.map(lambda x: Senti_analysis(x, Map_Pos_Words, Map_Neg_Words))"
      ],
      "metadata": {
        "id": "6EQE-fEML89O"
      },
      "execution_count": null,
      "outputs": []
    },
    {
      "cell_type": "code",
      "source": [
        "reviews_sentiment_df = reviews_RDD_with_score.toDF([\"filename\", \"review\", \"cleaned review\", \"positive_score\", \"negative_score\", \"sentiment\"])"
      ],
      "metadata": {
        "id": "NIvYbdvXL_Kb"
      },
      "execution_count": null,
      "outputs": []
    },
    {
      "cell_type": "code",
      "source": [
        "reviews_sentiment_df.show()"
      ],
      "metadata": {
        "colab": {
          "base_uri": "https://localhost:8080/"
        },
        "id": "rLcB9gRRMBKx",
        "outputId": "39c68b1a-485b-4a89-db25-9fae6323fc1b"
      },
      "execution_count": null,
      "outputs": [
        {
          "output_type": "stream",
          "name": "stdout",
          "text": [
            "+---------------+--------------------+--------------------+--------------+--------------+---------+\n",
            "|       filename|              review|      cleaned review|positive_score|negative_score|sentiment|\n",
            "+---------------+--------------------+--------------------+--------------+--------------+---------+\n",
            "|cv744_10091.txt|talk about beatin...|[talk, beating, d...|            19|            37| negative|\n",
            "| cv754_7709.txt|capsule : godawfu...|[capsule, godawfu...|            16|            36| negative|\n",
            "|cv838_25886.txt|in our time . \\ni...|[time, modern, wo...|            43|            33| positive|\n",
            "|cv523_18285.txt|1989's \" major le...|[major, league, d...|             6|            10| negative|\n",
            "|cv401_13758.txt|i'm not sure who ...|[sure, genius, ca...|            49|            52| negative|\n",
            "|cv131_11568.txt|about an hour or ...|[hour, jackal, ch...|            50|            46| positive|\n",
            "|cv948_25870.txt|and just when you...|[thought, joblo, ...|            17|            23| negative|\n",
            "|cv172_11131.txt|a standoff . \\na ...|[standoff, man, h...|            17|            30| negative|\n",
            "| cv152_8736.txt|capsule : a rock ...|[capsule, rock, r...|            25|            11| positive|\n",
            "|cv656_24201.txt|i had lost all fa...|[lost, faith, pg,...|            20|            22| negative|\n",
            "|cv878_15694.txt| \" i know what yo...|[know, last, summ...|            26|            33| negative|\n",
            "|cv098_15435.txt|meet joe black ( ...|[meet, joe, black...|            12|            26| negative|\n",
            "|cv279_19452.txt|the main problem ...|[main, problem, m...|            29|            24| positive|\n",
            "|cv157_29372.txt|synopsis : commit...|[synopsis, commit...|            11|            15| negative|\n",
            "|cv762_13927.txt|what is freedom ?...|[freedom, one, de...|            31|            20| positive|\n",
            "|cv028_26746.txt| \" the blair witc...|[blair, witch, pr...|            33|            34| negative|\n",
            "|cv747_18189.txt|in 1970s , many e...|[ s, many, europe...|            22|            25| negative|\n",
            "|cv701_14252.txt|seen september 5 ...|[seen, september,...|            38|            45| negative|\n",
            "|cv595_25335.txt|hollywood is a pi...|[hollywood, pimp,...|            17|            33| negative|\n",
            "|cv756_23676.txt|jet li busted ont...|[jet, li, busted,...|            28|            31| negative|\n",
            "+---------------+--------------------+--------------------+--------------+--------------+---------+\n",
            "only showing top 20 rows\n",
            "\n"
          ]
        }
      ]
    }
  ]
}